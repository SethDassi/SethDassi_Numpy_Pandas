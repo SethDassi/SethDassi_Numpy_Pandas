{
 "cells": [
  {
   "cell_type": "markdown",
   "id": "b966c49c",
   "metadata": {},
   "source": [
    "# Numpy And Pandas Exercises"
   ]
  },
  {
   "cell_type": "markdown",
   "id": "05e4390b",
   "metadata": {},
   "source": [
    "## 1. Exercuting the Following Instructions Using the Various Functions Under Numerical Python "
   ]
  },
  {
   "cell_type": "markdown",
   "id": "62d67001",
   "metadata": {},
   "source": [
    "### a. Creating a 2 by 3 matrix from 1 to 6"
   ]
  },
  {
   "cell_type": "code",
   "execution_count": 4,
   "id": "9acea6d1",
   "metadata": {},
   "outputs": [
    {
     "name": "stdout",
     "output_type": "stream",
     "text": [
      "[[1 2 3]\n",
      " [4 5 6]]\n"
     ]
    }
   ],
   "source": [
    "# 2 by 3 matrix from 1-6\n",
    "import numpy as np\n",
    "Matrix_A = np.array([[1,2,3],[4,5,6]])\n",
    "print(Matrix_A)"
   ]
  },
  {
   "cell_type": "code",
   "execution_count": 5,
   "id": "ae9b38ad",
   "metadata": {},
   "outputs": [
    {
     "name": "stdout",
     "output_type": "stream",
     "text": [
      "[[ 2  4  6]\n",
      " [ 8 10 12]]\n"
     ]
    }
   ],
   "source": [
    "#multiplying matrix_A by 2\n",
    "print(Matrix_A*2)"
   ]
  },
  {
   "cell_type": "markdown",
   "id": "19ebe081",
   "metadata": {},
   "source": [
    " ### b.Creating a 3 by 3 Identity Matrix"
   ]
  },
  {
   "cell_type": "code",
   "execution_count": 6,
   "id": "c8509cda",
   "metadata": {},
   "outputs": [
    {
     "name": "stdout",
     "output_type": "stream",
     "text": [
      "[[1 0 0]\n",
      " [0 1 0]\n",
      " [0 0 1]]\n"
     ]
    }
   ],
   "source": [
    "# 3 by 3 identity matrix\n",
    "Matrix_B = np.array([[1,0,0],[0,1,0],[0,0,1]])\n",
    "print(Matrix_B)"
   ]
  },
  {
   "cell_type": "markdown",
   "id": "85150fa9",
   "metadata": {},
   "source": [
    "### C. creating a 1-D array from 0 to 27"
   ]
  },
  {
   "cell_type": "code",
   "execution_count": 7,
   "id": "fc643ed2",
   "metadata": {},
   "outputs": [
    {
     "name": "stdout",
     "output_type": "stream",
     "text": [
      "[ 0  1  2  3  4  5  6  7  8  9 10 11 12 13 14 15 16 17 18 19 20 21 22 23\n",
      " 24 25 26]\n"
     ]
    }
   ],
   "source": [
    "#1-D array from 0-27\n",
    "arry1 = np.arange(27)\n",
    "print(arry1)"
   ]
  },
  {
   "cell_type": "code",
   "execution_count": 8,
   "id": "db421750",
   "metadata": {},
   "outputs": [
    {
     "name": "stdout",
     "output_type": "stream",
     "text": [
      "[[[ 0  1  2]\n",
      "  [ 3  4  5]\n",
      "  [ 6  7  8]]\n",
      "\n",
      " [[ 9 10 11]\n",
      "  [12 13 14]\n",
      "  [15 16 17]]\n",
      "\n",
      " [[18 19 20]\n",
      "  [21 22 23]\n",
      "  [24 25 26]]]\n"
     ]
    }
   ],
   "source": [
    "# converting the 1-D array to a 3-D array\n",
    "arry2 = arry1.reshape(3,3,3)\n",
    "print(arry2)"
   ]
  },
  {
   "cell_type": "markdown",
   "id": "398b829d",
   "metadata": {},
   "source": [
    "### d.creating a 2-D array containing 1 to 6 and 7 to 12 and stcking the two arrays vertically and horizontally"
   ]
  },
  {
   "cell_type": "code",
   "execution_count": 9,
   "id": "8bbb96e0",
   "metadata": {},
   "outputs": [
    {
     "name": "stdout",
     "output_type": "stream",
     "text": [
      "[[1 2 3]\n",
      " [4 5 6]]\n"
     ]
    }
   ],
   "source": [
    "#2-D array from 1-7\n",
    "arry_A = np.array([[1, 2 , 3,], [4, 5, 6]])\n",
    "print(arry_A)"
   ]
  },
  {
   "cell_type": "code",
   "execution_count": 10,
   "id": "d9ea9edb",
   "metadata": {},
   "outputs": [
    {
     "name": "stdout",
     "output_type": "stream",
     "text": [
      "[[ 7  8  9]\n",
      " [10 11 12]]\n"
     ]
    }
   ],
   "source": [
    "# 2-D array from 7-12\n",
    "arry_B = np.array([[7, 8, 9], [10, 11, 12]])\n",
    "print(arry_B)"
   ]
  },
  {
   "cell_type": "code",
   "execution_count": 11,
   "id": "c94d01e7",
   "metadata": {},
   "outputs": [
    {
     "name": "stdout",
     "output_type": "stream",
     "text": [
      "[[ 1  2  3]\n",
      " [ 4  5  6]\n",
      " [ 7  8  9]\n",
      " [10 11 12]]\n"
     ]
    }
   ],
   "source": [
    "# verticall stacking arry_A and arry_B\n",
    "v_stack = np.vstack((arry_A, arry_B))\n",
    "print(v_stack)"
   ]
  },
  {
   "cell_type": "code",
   "execution_count": null,
   "id": "c91c85d9",
   "metadata": {},
   "outputs": [],
   "source": []
  },
  {
   "cell_type": "code",
   "execution_count": 12,
   "id": "f49eba6e",
   "metadata": {},
   "outputs": [
    {
     "name": "stdout",
     "output_type": "stream",
     "text": [
      "[[ 1  2  3  7  8  9]\n",
      " [ 4  5  6 10 11 12]]\n"
     ]
    }
   ],
   "source": [
    "#horrizontal stacking arry_A and arry_B\n",
    "h_stack = np.hstack((arry_A, arry_B))\n",
    "print(h_stack)"
   ]
  },
  {
   "cell_type": "markdown",
   "id": "de3c0e4e",
   "metadata": {},
   "source": [
    "### e. from 0 to 100 sequence with equally spacing of 5"
   ]
  },
  {
   "cell_type": "code",
   "execution_count": 60,
   "id": "41be71d6",
   "metadata": {},
   "outputs": [
    {
     "name": "stdout",
     "output_type": "stream",
     "text": [
      "0\n",
      "5\n",
      "10\n",
      "15\n",
      "20\n",
      "25\n",
      "30\n",
      "35\n",
      "40\n",
      "45\n",
      "50\n",
      "55\n",
      "60\n",
      "65\n",
      "70\n",
      "75\n",
      "80\n",
      "85\n",
      "90\n",
      "95\n",
      "100\n"
     ]
    }
   ],
   "source": [
    "# from 0-100 sequence with 5 gaps spacing\n",
    "for i in range(0, 101, 5):\n",
    "    print(i)"
   ]
  },
  {
   "cell_type": "markdown",
   "id": "d87eeefc",
   "metadata": {},
   "source": [
    "## 2. Some Pandas associated Functions in python"
   ]
  },
  {
   "cell_type": "markdown",
   "id": "ace7a1a5",
   "metadata": {},
   "source": [
    "###  a. Dataframe of names of five students"
   ]
  },
  {
   "cell_type": "code",
   "execution_count": 18,
   "id": "a1c1684d",
   "metadata": {},
   "outputs": [],
   "source": [
    "import pandas as pd"
   ]
  },
  {
   "cell_type": "code",
   "execution_count": 19,
   "id": "36a91fa7",
   "metadata": {},
   "outputs": [],
   "source": [
    "# generating the list of students\n",
    "student_names = ['John Kumah', 'Sarah Amafroh', 'David Atisu', 'Emily Katamani', 'Corban Manfari']"
   ]
  },
  {
   "cell_type": "code",
   "execution_count": 20,
   "id": "db78d5bf",
   "metadata": {},
   "outputs": [],
   "source": [
    "#creating the dataframe of the list of students\n",
    "students = pd.DataFrame(student_names, columns=['Name'])"
   ]
  },
  {
   "cell_type": "code",
   "execution_count": 21,
   "id": "35e738d1",
   "metadata": {},
   "outputs": [
    {
     "name": "stdout",
     "output_type": "stream",
     "text": [
      "             Name\n",
      "0      John Kumah\n",
      "1   Sarah Amafroh\n",
      "2     David Atisu\n",
      "3  Emily Katamani\n",
      "4  Corban Manfari\n"
     ]
    }
   ],
   "source": [
    "#printing the dataframe\n",
    "print(students)"
   ]
  },
  {
   "cell_type": "markdown",
   "id": "c6ed7dcf",
   "metadata": {},
   "source": [
    "   ### b. Ghana Premier League Teams and their goals scored in their last five maches"
   ]
  },
  {
   "cell_type": "code",
   "execution_count": 22,
   "id": "c77d2477",
   "metadata": {},
   "outputs": [],
   "source": [
    "import pandas as pd"
   ]
  },
  {
   "cell_type": "code",
   "execution_count": 23,
   "id": "aeac471c",
   "metadata": {},
   "outputs": [],
   "source": [
    "#generating the names of teams in Ghana\n",
    "team_names = ['Accra Hearts of Oak', 'Asante Kotoko', 'Ashanti Gold SC', 'Aduana Stars', 'Medeama SC', 'Ebusua Dwarfs', 'WAFA SC', 'Elmina Sharks', 'Legon Cities FC', 'Bechem United', 'Berekum Chelsea', 'King Faisal Babes', 'Inter Allies FC', 'Great Olympics', 'Liberty Professionals', 'Karela United']\n"
   ]
  },
  {
   "cell_type": "code",
   "execution_count": 24,
   "id": "1cd4af76",
   "metadata": {},
   "outputs": [],
   "source": [
    "# goals scored, conceeded and points of the teams\n",
    "goals_dict = {\n",
    "    'Accra Hearts of Oak': [2, 3, 1, 1, 4],\n",
    "    'Asante Kotoko': [1, 2, 0, 3, 2],\n",
    "    'Ashanti Gold SC': [2, 0, 1, 2, 0],\n",
    "    'Aduana Stars': [1, 2, 0, 0, 3],\n",
    "    'Medeama SC': [1, 0, 1, 2, 0],\n",
    "    'Ebusua Dwarfs': [0, 2, 0, 1, 1],\n",
    "    'WAFA SC': [3, 1, 2, 3, 0],\n",
    "    'Elmina Sharks': [1, 2, 1, 1, 0],\n",
    "    'Legon Cities FC': [0, 1, 1, 0, 0],\n",
    "    'Bechem United': [1, 0, 0, 2, 2],\n",
    "    'Berekum Chelsea': [2, 1, 2, 3, 1],\n",
    "    'King Faisal Babes': [0, 1, 1, 1, 0],\n",
    "    'Inter Allies FC': [2, 3, 0, 1, 0],\n",
    "    'Great Olympics': [1, 1, 1, 0, 0],\n",
    "    'Liberty Professionals': [0, 2, 0, 1, 2],\n",
    "    'Karela United': [2, 2, 1, 1, 1]\n",
    "}"
   ]
  },
  {
   "cell_type": "code",
   "execution_count": 25,
   "id": "dc033e32",
   "metadata": {},
   "outputs": [],
   "source": [
    "#generating the dataframes\n",
    "teams = pd.DataFrame.from_dict(goals_dict, orient='index', columns=['match1', 'match2', 'match3', 'match4', 'match5'])\n"
   ]
  },
  {
   "cell_type": "code",
   "execution_count": 26,
   "id": "9eea9675",
   "metadata": {},
   "outputs": [],
   "source": [
    "teams['team_name'] = team_names"
   ]
  },
  {
   "cell_type": "code",
   "execution_count": 27,
   "id": "fb92ebc5",
   "metadata": {},
   "outputs": [],
   "source": [
    "teams.set_index('team_name', inplace=True)"
   ]
  },
  {
   "cell_type": "code",
   "execution_count": 28,
   "id": "7b2a8c81",
   "metadata": {},
   "outputs": [
    {
     "name": "stdout",
     "output_type": "stream",
     "text": [
      "                       match1  match2  match3  match4  match5\n",
      "team_name                                                    \n",
      "Accra Hearts of Oak         2       3       1       1       4\n",
      "Asante Kotoko               1       2       0       3       2\n",
      "Ashanti Gold SC             2       0       1       2       0\n",
      "Aduana Stars                1       2       0       0       3\n",
      "Medeama SC                  1       0       1       2       0\n",
      "Ebusua Dwarfs               0       2       0       1       1\n",
      "WAFA SC                     3       1       2       3       0\n",
      "Elmina Sharks               1       2       1       1       0\n",
      "Legon Cities FC             0       1       1       0       0\n",
      "Bechem United               1       0       0       2       2\n",
      "Berekum Chelsea             2       1       2       3       1\n",
      "King Faisal Babes           0       1       1       1       0\n",
      "Inter Allies FC             2       3       0       1       0\n",
      "Great Olympics              1       1       1       0       0\n",
      "Liberty Professionals       0       2       0       1       2\n",
      "Karela United               2       2       1       1       1\n"
     ]
    }
   ],
   "source": [
    "print(teams)"
   ]
  },
  {
   "cell_type": "code",
   "execution_count": null,
   "id": "0883d830",
   "metadata": {},
   "outputs": [],
   "source": []
  },
  {
   "cell_type": "markdown",
   "id": "3fbdae31",
   "metadata": {},
   "source": [
    "### C. a DataFrame  of West African countries using a dictionary, their names, capitals, and populations of the country"
   ]
  },
  {
   "cell_type": "code",
   "execution_count": 51,
   "id": "5848ad4d",
   "metadata": {},
   "outputs": [],
   "source": [
    "#The names of West African Countries, their capital towns and their populations\n",
    "data = {'Country': ['Nigeria', 'Ghana', 'Cote d\\'Ivoire', 'Liberia', 'Sierra Leone', 'Guinea', 'Mali', 'Senegal', 'Burkina Faso', 'The Gambia'],\n",
    "        'Capital': ['Abuja', 'Accra', 'Yamoussoukro', 'Monrovia', 'Freetown', 'Conakry', 'Bamako', 'Dakar', 'Ouagadougou', 'Banjul'],\n",
    "        'Population': [206139587, 31072940, 26378274, 5057681, 7976983, 13132795, 20250834, 16296364, 20903278, 2347706]}\n"
   ]
  },
  {
   "cell_type": "code",
   "execution_count": 30,
   "id": "820b6ec0",
   "metadata": {},
   "outputs": [],
   "source": [
    "#the dataframe of West African Countries\n",
    "countries = pd.DataFrame(data)"
   ]
  },
  {
   "cell_type": "code",
   "execution_count": 31,
   "id": "114ca9fd",
   "metadata": {},
   "outputs": [
    {
     "name": "stdout",
     "output_type": "stream",
     "text": [
      "         Country       Capital  Population\n",
      "0        Nigeria         Abuja   206139587\n",
      "1          Ghana         Accra    31072940\n",
      "2  Cote d'Ivoire  Yamoussoukro    26378274\n",
      "3        Liberia      Monrovia     5057681\n",
      "4   Sierra Leone      Freetown     7976983\n",
      "5         Guinea       Conakry    13132795\n",
      "6           Mali        Bamako    20250834\n",
      "7        Senegal         Dakar    16296364\n",
      "8   Burkina Faso   Ouagadougou    20903278\n",
      "9     The Gambia        Banjul     2347706\n"
     ]
    }
   ],
   "source": [
    "print(countries)"
   ]
  },
  {
   "cell_type": "markdown",
   "id": "877140f7",
   "metadata": {},
   "source": [
    "### d. A programme capturing  the provided dataset in python."
   ]
  },
  {
   "cell_type": "code",
   "execution_count": 36,
   "id": "496dab94",
   "metadata": {},
   "outputs": [],
   "source": [
    "#i.creating the given table\n",
    "#names of the teams and the goals \n",
    "import pandas as pd\n",
    "Sno = [1,2,3,4,5,6,7]\n",
    "team = ['Accra Hearts of Oak', 'Asante Kotoko', 'Ebusua Duafs', 'Sekondi Hassacas', 'Okwahu United', 'Tano Bofoakwa', 'BA United']\n",
    "gf = [120,90,90,80,78,70,71]\n",
    "ga = [35,55,60,43,39,50,55]\n",
    "pts = [80,60,60,55,53,49,44]"
   ]
  },
  {
   "cell_type": "code",
   "execution_count": 42,
   "id": "576039c9",
   "metadata": {},
   "outputs": [],
   "source": [
    "# assigning the headings to the table\n",
    "teams_standing={'SNO':Sno,'Teams':team,'GF':gf,'GA':ga, 'PTS':pts}"
   ]
  },
  {
   "cell_type": "code",
   "execution_count": 41,
   "id": "7b43a5c1",
   "metadata": {},
   "outputs": [
    {
     "data": {
      "text/html": [
       "<div>\n",
       "<style scoped>\n",
       "    .dataframe tbody tr th:only-of-type {\n",
       "        vertical-align: middle;\n",
       "    }\n",
       "\n",
       "    .dataframe tbody tr th {\n",
       "        vertical-align: top;\n",
       "    }\n",
       "\n",
       "    .dataframe thead th {\n",
       "        text-align: right;\n",
       "    }\n",
       "</style>\n",
       "<table border=\"1\" class=\"dataframe\">\n",
       "  <thead>\n",
       "    <tr style=\"text-align: right;\">\n",
       "      <th></th>\n",
       "      <th>SNO</th>\n",
       "      <th>Teams</th>\n",
       "      <th>GF</th>\n",
       "      <th>GA</th>\n",
       "      <th>PTS</th>\n",
       "    </tr>\n",
       "  </thead>\n",
       "  <tbody>\n",
       "    <tr>\n",
       "      <th>0</th>\n",
       "      <td>1</td>\n",
       "      <td>Accra Hearts of Oak</td>\n",
       "      <td>120</td>\n",
       "      <td>35</td>\n",
       "      <td>80</td>\n",
       "    </tr>\n",
       "    <tr>\n",
       "      <th>1</th>\n",
       "      <td>2</td>\n",
       "      <td>Asante Kotoko</td>\n",
       "      <td>90</td>\n",
       "      <td>55</td>\n",
       "      <td>60</td>\n",
       "    </tr>\n",
       "    <tr>\n",
       "      <th>2</th>\n",
       "      <td>3</td>\n",
       "      <td>Ebusua Duafs</td>\n",
       "      <td>90</td>\n",
       "      <td>60</td>\n",
       "      <td>60</td>\n",
       "    </tr>\n",
       "    <tr>\n",
       "      <th>3</th>\n",
       "      <td>4</td>\n",
       "      <td>Sekondi Hassacas</td>\n",
       "      <td>80</td>\n",
       "      <td>43</td>\n",
       "      <td>55</td>\n",
       "    </tr>\n",
       "    <tr>\n",
       "      <th>4</th>\n",
       "      <td>5</td>\n",
       "      <td>Okwahu United</td>\n",
       "      <td>78</td>\n",
       "      <td>39</td>\n",
       "      <td>53</td>\n",
       "    </tr>\n",
       "    <tr>\n",
       "      <th>5</th>\n",
       "      <td>6</td>\n",
       "      <td>Tano Bofoakwa</td>\n",
       "      <td>70</td>\n",
       "      <td>50</td>\n",
       "      <td>49</td>\n",
       "    </tr>\n",
       "    <tr>\n",
       "      <th>6</th>\n",
       "      <td>7</td>\n",
       "      <td>BA United</td>\n",
       "      <td>71</td>\n",
       "      <td>55</td>\n",
       "      <td>44</td>\n",
       "    </tr>\n",
       "  </tbody>\n",
       "</table>\n",
       "</div>"
      ],
      "text/plain": [
       "   SNO                Teams   GF  GA  PTS\n",
       "0    1  Accra Hearts of Oak  120  35   80\n",
       "1    2        Asante Kotoko   90  55   60\n",
       "2    3         Ebusua Duafs   90  60   60\n",
       "3    4     Sekondi Hassacas   80  43   55\n",
       "4    5        Okwahu United   78  39   53\n",
       "5    6        Tano Bofoakwa   70  50   49\n",
       "6    7            BA United   71  55   44"
      ]
     },
     "execution_count": 41,
     "metadata": {},
     "output_type": "execute_result"
    }
   ],
   "source": [
    "#creating the dataframe\n",
    "league_table = pd.DataFrame(teams_standing)\n",
    "league_table"
   ]
  },
  {
   "cell_type": "code",
   "execution_count": 47,
   "id": "b29b0136",
   "metadata": {},
   "outputs": [
    {
     "data": {
      "text/html": [
       "<div>\n",
       "<style scoped>\n",
       "    .dataframe tbody tr th:only-of-type {\n",
       "        vertical-align: middle;\n",
       "    }\n",
       "\n",
       "    .dataframe tbody tr th {\n",
       "        vertical-align: top;\n",
       "    }\n",
       "\n",
       "    .dataframe thead th {\n",
       "        text-align: right;\n",
       "    }\n",
       "</style>\n",
       "<table border=\"1\" class=\"dataframe\">\n",
       "  <thead>\n",
       "    <tr style=\"text-align: right;\">\n",
       "      <th></th>\n",
       "      <th>SNO</th>\n",
       "      <th>Teams</th>\n",
       "      <th>GF</th>\n",
       "      <th>GA</th>\n",
       "      <th>PTS</th>\n",
       "    </tr>\n",
       "  </thead>\n",
       "  <tbody>\n",
       "    <tr>\n",
       "      <th>0</th>\n",
       "      <td>1</td>\n",
       "      <td>Accra Hearts of Oak</td>\n",
       "      <td>120</td>\n",
       "      <td>35</td>\n",
       "      <td>80</td>\n",
       "    </tr>\n",
       "    <tr>\n",
       "      <th>1</th>\n",
       "      <td>2</td>\n",
       "      <td>Asante Kotoko</td>\n",
       "      <td>90</td>\n",
       "      <td>55</td>\n",
       "      <td>60</td>\n",
       "    </tr>\n",
       "    <tr>\n",
       "      <th>2</th>\n",
       "      <td>3</td>\n",
       "      <td>Ebusua Duafs</td>\n",
       "      <td>90</td>\n",
       "      <td>60</td>\n",
       "      <td>60</td>\n",
       "    </tr>\n",
       "    <tr>\n",
       "      <th>3</th>\n",
       "      <td>4</td>\n",
       "      <td>Sekondi Hassacas</td>\n",
       "      <td>80</td>\n",
       "      <td>43</td>\n",
       "      <td>55</td>\n",
       "    </tr>\n",
       "    <tr>\n",
       "      <th>4</th>\n",
       "      <td>5</td>\n",
       "      <td>Okwahu United</td>\n",
       "      <td>78</td>\n",
       "      <td>39</td>\n",
       "      <td>53</td>\n",
       "    </tr>\n",
       "    <tr>\n",
       "      <th>5</th>\n",
       "      <td>6</td>\n",
       "      <td>Tano Bofoakwa</td>\n",
       "      <td>70</td>\n",
       "      <td>50</td>\n",
       "      <td>49</td>\n",
       "    </tr>\n",
       "    <tr>\n",
       "      <th>6</th>\n",
       "      <td>7</td>\n",
       "      <td>BA United</td>\n",
       "      <td>71</td>\n",
       "      <td>55</td>\n",
       "      <td>44</td>\n",
       "    </tr>\n",
       "  </tbody>\n",
       "</table>\n",
       "</div>"
      ],
      "text/plain": [
       "   SNO                Teams   GF  GA  PTS\n",
       "0    1  Accra Hearts of Oak  120  35   80\n",
       "1    2        Asante Kotoko   90  55   60\n",
       "2    3         Ebusua Duafs   90  60   60\n",
       "3    4     Sekondi Hassacas   80  43   55\n",
       "4    5        Okwahu United   78  39   53\n",
       "5    6        Tano Bofoakwa   70  50   49\n",
       "6    7            BA United   71  55   44"
      ]
     },
     "execution_count": 47,
     "metadata": {},
     "output_type": "execute_result"
    }
   ],
   "source": [
    "#ii.a.teams that conceeded more than 30 goals\n",
    "league_table[league_table['GA']>30]"
   ]
  },
  {
   "cell_type": "code",
   "execution_count": 49,
   "id": "f3081aec",
   "metadata": {},
   "outputs": [
    {
     "data": {
      "text/html": [
       "<div>\n",
       "<style scoped>\n",
       "    .dataframe tbody tr th:only-of-type {\n",
       "        vertical-align: middle;\n",
       "    }\n",
       "\n",
       "    .dataframe tbody tr th {\n",
       "        vertical-align: top;\n",
       "    }\n",
       "\n",
       "    .dataframe thead th {\n",
       "        text-align: right;\n",
       "    }\n",
       "</style>\n",
       "<table border=\"1\" class=\"dataframe\">\n",
       "  <thead>\n",
       "    <tr style=\"text-align: right;\">\n",
       "      <th></th>\n",
       "      <th>SNO</th>\n",
       "      <th>Teams</th>\n",
       "      <th>GF</th>\n",
       "      <th>GA</th>\n",
       "      <th>PTS</th>\n",
       "    </tr>\n",
       "  </thead>\n",
       "  <tbody>\n",
       "    <tr>\n",
       "      <th>4</th>\n",
       "      <td>5</td>\n",
       "      <td>Okwahu United</td>\n",
       "      <td>78</td>\n",
       "      <td>39</td>\n",
       "      <td>53</td>\n",
       "    </tr>\n",
       "    <tr>\n",
       "      <th>5</th>\n",
       "      <td>6</td>\n",
       "      <td>Tano Bofoakwa</td>\n",
       "      <td>70</td>\n",
       "      <td>50</td>\n",
       "      <td>49</td>\n",
       "    </tr>\n",
       "    <tr>\n",
       "      <th>6</th>\n",
       "      <td>7</td>\n",
       "      <td>BA United</td>\n",
       "      <td>71</td>\n",
       "      <td>55</td>\n",
       "      <td>44</td>\n",
       "    </tr>\n",
       "  </tbody>\n",
       "</table>\n",
       "</div>"
      ],
      "text/plain": [
       "   SNO          Teams  GF  GA  PTS\n",
       "4    5  Okwahu United  78  39   53\n",
       "5    6  Tano Bofoakwa  70  50   49\n",
       "6    7      BA United  71  55   44"
      ]
     },
     "execution_count": 49,
     "metadata": {},
     "output_type": "execute_result"
    }
   ],
   "source": [
    "#ii.b. tteams that conceeded less than 80 goals\n",
    "league_table[league_table['GF']<80]"
   ]
  },
  {
   "cell_type": "code",
   "execution_count": 50,
   "id": "20992e64",
   "metadata": {},
   "outputs": [
    {
     "data": {
      "text/html": [
       "<div>\n",
       "<style scoped>\n",
       "    .dataframe tbody tr th:only-of-type {\n",
       "        vertical-align: middle;\n",
       "    }\n",
       "\n",
       "    .dataframe tbody tr th {\n",
       "        vertical-align: top;\n",
       "    }\n",
       "\n",
       "    .dataframe thead th {\n",
       "        text-align: right;\n",
       "    }\n",
       "</style>\n",
       "<table border=\"1\" class=\"dataframe\">\n",
       "  <thead>\n",
       "    <tr style=\"text-align: right;\">\n",
       "      <th></th>\n",
       "      <th>SNO</th>\n",
       "      <th>Teams</th>\n",
       "      <th>GF</th>\n",
       "      <th>GA</th>\n",
       "      <th>PTS</th>\n",
       "    </tr>\n",
       "  </thead>\n",
       "  <tbody>\n",
       "    <tr>\n",
       "      <th>3</th>\n",
       "      <td>4</td>\n",
       "      <td>Sekondi Hassacas</td>\n",
       "      <td>80</td>\n",
       "      <td>43</td>\n",
       "      <td>55</td>\n",
       "    </tr>\n",
       "    <tr>\n",
       "      <th>4</th>\n",
       "      <td>5</td>\n",
       "      <td>Okwahu United</td>\n",
       "      <td>78</td>\n",
       "      <td>39</td>\n",
       "      <td>53</td>\n",
       "    </tr>\n",
       "    <tr>\n",
       "      <th>5</th>\n",
       "      <td>6</td>\n",
       "      <td>Tano Bofoakwa</td>\n",
       "      <td>70</td>\n",
       "      <td>50</td>\n",
       "      <td>49</td>\n",
       "    </tr>\n",
       "    <tr>\n",
       "      <th>6</th>\n",
       "      <td>7</td>\n",
       "      <td>BA United</td>\n",
       "      <td>71</td>\n",
       "      <td>55</td>\n",
       "      <td>44</td>\n",
       "    </tr>\n",
       "  </tbody>\n",
       "</table>\n",
       "</div>"
      ],
      "text/plain": [
       "   SNO             Teams  GF  GA  PTS\n",
       "3    4  Sekondi Hassacas  80  43   55\n",
       "4    5     Okwahu United  78  39   53\n",
       "5    6     Tano Bofoakwa  70  50   49\n",
       "6    7         BA United  71  55   44"
      ]
     },
     "execution_count": 50,
     "metadata": {},
     "output_type": "execute_result"
    }
   ],
   "source": [
    "#ii.c. teams that had less than 60 point\n",
    "league_table[league_table['PTS']<60]"
   ]
  },
  {
   "cell_type": "code",
   "execution_count": null,
   "id": "3328e069",
   "metadata": {},
   "outputs": [],
   "source": []
  }
 ],
 "metadata": {
  "kernelspec": {
   "display_name": "Python 3 (ipykernel)",
   "language": "python",
   "name": "python3"
  },
  "language_info": {
   "codemirror_mode": {
    "name": "ipython",
    "version": 3
   },
   "file_extension": ".py",
   "mimetype": "text/x-python",
   "name": "python",
   "nbconvert_exporter": "python",
   "pygments_lexer": "ipython3",
   "version": "3.9.13"
  }
 },
 "nbformat": 4,
 "nbformat_minor": 5
}
